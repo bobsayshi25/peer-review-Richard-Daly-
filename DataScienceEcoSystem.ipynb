{
 "cells": [
  {
   "cell_type": "markdown",
   "id": "eaf49609-8c48-48c0-8f96-0872ada79f1a",
   "metadata": {},
   "source": [
    "# Data Science Tools and Ecosystem"
   ]
  },
  {
   "cell_type": "markdown",
   "id": "1af4d444-d048-4187-889d-e097b642f2fc",
   "metadata": {},
   "source": [
    "In this notebook, Data Science tools and Ecosystem will be summarized"
   ]
  },
  {
   "cell_type": "markdown",
   "id": "1d75b945-65c6-4f0b-a862-93f26bad3982",
   "metadata": {},
   "source": [
    "**Objectives** \n",
    "- Understanding the language used to process data\n",
    "- Understanding the rapport shared between data science, and all of it's tools and libraries\n",
    "- Examples of problem solving and numerical conversions"
   ]
  },
  {
   "cell_type": "markdown",
   "id": "819cdca1-ba2f-4e1f-bb34-452e41773083",
   "metadata": {},
   "source": [
    "Data scientist tend to rely on these programs to present and convey their findings to the masses:\n",
    "\n",
    "1. Python - ease of access, with a plethora of libraries making it ideal for most data operations\n",
    "2. R - designed for the visualization of data and statistical models alike\n",
    "3. SQL - although it is not considered a language of \"Data Science\" it is regularly used by data scientist to manage data\n",
    "4. Java - thoroughly tested, general purpose, broad coverage  "
   ]
  },
  {
   "cell_type": "markdown",
   "id": "d199983e-0bfa-4803-85f7-bbaa08a143b7",
   "metadata": {},
   "source": [
    "The language and learning of Data Scientist are bolstered by systems known as libraries some of the commonly used libraries are:\n",
    "\n",
    "1. Pandas - structures and tools for effective data cleaning, manipulation and analysis\n",
    "2. NumPy - allows the use of mathematical functions in data arrays\n",
    "3. Madplotlib - well known library for data visualization (graphs, plots)\n",
    "4. SciKit - for machine learning, contains tool for statistical modeling including regression , classification, and clustering\n",
    "   "
   ]
  },
  {
   "cell_type": "markdown",
   "id": "400da166-0b32-4948-ad07-4dfdbf5cc388",
   "metadata": {},
   "source": [
    "| Data Science Tools |\n",
    "| --- |\n",
    "| MySQL|\n",
    "| Seldon|\n",
    "| Apache AirFlow |"
   ]
  },
  {
   "cell_type": "markdown",
   "id": "46a88c14-3b0a-47cc-88dd-469692791a55",
   "metadata": {},
   "source": [
    "### Examples of Arithmetic Expression in Python"
   ]
  },
  {
   "cell_type": "code",
   "execution_count": 16,
   "id": "f6aec2c4-b03f-47e3-acb7-223ffa1eae5b",
   "metadata": {},
   "outputs": [
    {
     "data": {
      "text/plain": [
       "17"
      ]
     },
     "execution_count": 16,
     "metadata": {},
     "output_type": "execute_result"
    }
   ],
   "source": [
    "# Simple Arithmetic Expression\n",
    "x = 3\n",
    "y = 4\n",
    "x * y + 5"
   ]
  },
  {
   "cell_type": "code",
   "execution_count": 42,
   "id": "95d24c0e-4aa4-48eb-92e2-d29c5d5aabd8",
   "metadata": {},
   "outputs": [
    {
     "name": "stdout",
     "output_type": "stream",
     "text": [
      "3 hours and 20 minutes\n"
     ]
    }
   ],
   "source": [
    "#converting 200 minutes into hours\n",
    "minutes = 200\n",
    "hours = minutes // 60\n",
    "remaining_minutes = minutes % 60\n",
    "print(f\"{hours} hours and {remaining_minutes} minutes\")"
   ]
  },
  {
   "cell_type": "markdown",
   "id": "d599a62b-a144-47cd-860a-0dab6f9e6723",
   "metadata": {},
   "source": [
    "## Author\n",
    "   Richard Glenn Daly Jr"
   ]
  },
  {
   "cell_type": "code",
   "execution_count": null,
   "id": "b572cc9f-4ef1-4437-a317-3aab31d93742",
   "metadata": {},
   "outputs": [],
   "source": []
  }
 ],
 "metadata": {
  "kernelspec": {
   "display_name": "anaconda-ai-2024.04-py310",
   "language": "python",
   "name": "conda-env-anaconda-ai-2024.04-py310-py"
  },
  "language_info": {
   "codemirror_mode": {
    "name": "ipython",
    "version": 3
   },
   "file_extension": ".py",
   "mimetype": "text/x-python",
   "name": "python",
   "nbconvert_exporter": "python",
   "pygments_lexer": "ipython3",
   "version": "3.10.13"
  }
 },
 "nbformat": 4,
 "nbformat_minor": 5
}
